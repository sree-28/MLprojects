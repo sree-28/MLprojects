{
 "cells": [
  {
   "cell_type": "code",
   "execution_count": 35,
   "id": "1b688068",
   "metadata": {},
   "outputs": [],
   "source": [
    "# final_dict={}\n",
    "def generate(numRows):\n",
    "    final_list = []\n",
    "    final_dict={}\n",
    "    for i in range(numRows): ##3 rows - 0,1,2,3,4\n",
    "        temp_list = []\n",
    "#         print(i)\n",
    "        for j in range(i+1):\n",
    "#             print(j)\n",
    "            if j==0 or j==i:\n",
    "                temp_list.insert(j,1)\n",
    "            else:\n",
    "#                 print(i,j)\n",
    "#                 print(final_dict[i-1][j])\n",
    "                temp_val = final_dict[i-1][j]+final_dict[i-1][j-1]\n",
    "                temp_list.insert(j,temp_val)\n",
    "        final_list.append(temp_list)\n",
    "        final_dict[i]=temp_list\n",
    "#     print(final_dict)\n",
    "    return(final_list)\n",
    "            "
   ]
  },
  {
   "cell_type": "code",
   "execution_count": 36,
   "id": "e62b3e41",
   "metadata": {},
   "outputs": [
    {
     "data": {
      "text/plain": [
       "[[1], [1, 1], [1, 2, 1], [1, 3, 3, 1], [1, 4, 6, 4, 1]]"
      ]
     },
     "execution_count": 36,
     "metadata": {},
     "output_type": "execute_result"
    }
   ],
   "source": [
    "generate(5)"
   ]
  },
  {
   "cell_type": "code",
   "execution_count": 37,
   "id": "cebbbe15",
   "metadata": {},
   "outputs": [
    {
     "data": {
      "text/plain": [
       "[[1], [1, 1], [1, 2, 1], [1, 3, 3, 1], [1, 4, 6, 4, 1], [1, 5, 10, 10, 5, 1]]"
      ]
     },
     "execution_count": 37,
     "metadata": {},
     "output_type": "execute_result"
    }
   ],
   "source": [
    "generate(6)"
   ]
  },
  {
   "cell_type": "code",
   "execution_count": null,
   "id": "eb1d302a",
   "metadata": {},
   "outputs": [],
   "source": []
  }
 ],
 "metadata": {
  "kernelspec": {
   "display_name": "Python 3 (ipykernel)",
   "language": "python",
   "name": "python3"
  },
  "language_info": {
   "codemirror_mode": {
    "name": "ipython",
    "version": 3
   },
   "file_extension": ".py",
   "mimetype": "text/x-python",
   "name": "python",
   "nbconvert_exporter": "python",
   "pygments_lexer": "ipython3",
   "version": "3.7.3"
  }
 },
 "nbformat": 4,
 "nbformat_minor": 5
}
