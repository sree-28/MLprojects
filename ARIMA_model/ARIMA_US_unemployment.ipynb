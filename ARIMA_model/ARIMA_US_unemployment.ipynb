{
 "cells": [
  {
   "cell_type": "code",
   "execution_count": 1,
   "id": "b82a493e",
   "metadata": {},
   "outputs": [],
   "source": [
    "import pandas as pd\n",
    "import numpy as np"
   ]
  },
  {
   "cell_type": "code",
   "execution_count": 2,
   "id": "bb2819d5",
   "metadata": {},
   "outputs": [],
   "source": [
    "data = pd.read_csv('/Users/charan/Documents/Learning/GitHub/MLprojects/ARIMA_model/data.csv',\n",
    "                   names=['Date','UnemploymentRate'])"
   ]
  },
  {
   "cell_type": "code",
   "execution_count": 3,
   "id": "bc85c706",
   "metadata": {},
   "outputs": [],
   "source": [
    "test_data = pd.read_csv('/Users/charan/Documents/Learning/GitHub/MLprojects/ARIMA_model/test_data.csv',\n",
    "                       names=['Date','UnemploymentRate'])"
   ]
  },
  {
   "cell_type": "code",
   "execution_count": 4,
   "id": "a4bd41cd",
   "metadata": {},
   "outputs": [
    {
     "data": {
      "text/html": [
       "<div>\n",
       "<style scoped>\n",
       "    .dataframe tbody tr th:only-of-type {\n",
       "        vertical-align: middle;\n",
       "    }\n",
       "\n",
       "    .dataframe tbody tr th {\n",
       "        vertical-align: top;\n",
       "    }\n",
       "\n",
       "    .dataframe thead th {\n",
       "        text-align: right;\n",
       "    }\n",
       "</style>\n",
       "<table border=\"1\" class=\"dataframe\">\n",
       "  <thead>\n",
       "    <tr style=\"text-align: right;\">\n",
       "      <th></th>\n",
       "      <th>Date</th>\n",
       "      <th>UnemploymentRate</th>\n",
       "    </tr>\n",
       "  </thead>\n",
       "  <tbody>\n",
       "    <tr>\n",
       "      <th>727</th>\n",
       "      <td>8/1/08</td>\n",
       "      <td>6.1</td>\n",
       "    </tr>\n",
       "    <tr>\n",
       "      <th>728</th>\n",
       "      <td>9/1/08</td>\n",
       "      <td>6.1</td>\n",
       "    </tr>\n",
       "    <tr>\n",
       "      <th>729</th>\n",
       "      <td>10/1/08</td>\n",
       "      <td>6.5</td>\n",
       "    </tr>\n",
       "    <tr>\n",
       "      <th>730</th>\n",
       "      <td>11/1/08</td>\n",
       "      <td>6.8</td>\n",
       "    </tr>\n",
       "    <tr>\n",
       "      <th>731</th>\n",
       "      <td>12/1/08</td>\n",
       "      <td>7.3</td>\n",
       "    </tr>\n",
       "  </tbody>\n",
       "</table>\n",
       "</div>"
      ],
      "text/plain": [
       "        Date  UnemploymentRate\n",
       "727   8/1/08               6.1\n",
       "728   9/1/08               6.1\n",
       "729  10/1/08               6.5\n",
       "730  11/1/08               6.8\n",
       "731  12/1/08               7.3"
      ]
     },
     "execution_count": 4,
     "metadata": {},
     "output_type": "execute_result"
    }
   ],
   "source": [
    "data.tail()"
   ]
  },
  {
   "cell_type": "code",
   "execution_count": 5,
   "id": "6ca3d6bb",
   "metadata": {},
   "outputs": [],
   "source": [
    "# data = data[:round(data.shape[0]*0.8)]"
   ]
  },
  {
   "cell_type": "code",
   "execution_count": 6,
   "id": "eb610c7b",
   "metadata": {},
   "outputs": [],
   "source": [
    "# data_test = data[round(data.shape[0]*0.8):]"
   ]
  },
  {
   "cell_type": "code",
   "execution_count": 7,
   "id": "d8ed78d9",
   "metadata": {},
   "outputs": [],
   "source": [
    "import matplotlib.pyplot as plt"
   ]
  },
  {
   "cell_type": "code",
   "execution_count": 8,
   "id": "85c43a56",
   "metadata": {},
   "outputs": [
    {
     "data": {
      "text/plain": [
       "<AxesSubplot:>"
      ]
     },
     "execution_count": 8,
     "metadata": {},
     "output_type": "execute_result"
    },
    {
     "data": {
      "image/png": "[encoded data removed]",
      "text/plain": [
       "<Figure size 432x288 with 1 Axes>"
      ]
     },
     "metadata": {
      "needs_background": "light"
     },
     "output_type": "display_data"
    }
   ],
   "source": [
    "data.plot(kind='line')"
   ]
  },
  {
   "cell_type": "code",
   "execution_count": 9,
   "id": "739ff229",
   "metadata": {},
   "outputs": [
    {
     "data": {
      "text/plain": [
       "0      NaN\n",
       "1      0.4\n",
       "2      0.2\n",
       "3     -0.1\n",
       "4     -0.4\n",
       "      ... \n",
       "727    0.3\n",
       "728    0.0\n",
       "729    0.4\n",
       "730    0.3\n",
       "731    0.5\n",
       "Name: UnemploymentRate, Length: 732, dtype: float64"
      ]
     },
     "execution_count": 9,
     "metadata": {},
     "output_type": "execute_result"
    }
   ],
   "source": [
    "data.UnemploymentRate.diff() ###diff(number)"
   ]
  },
  {
   "cell_type": "code",
   "execution_count": 10,
   "id": "8d2cea09",
   "metadata": {},
   "outputs": [
    {
     "data": {
      "text/plain": [
       "0      3.4\n",
       "1      3.8\n",
       "2      4.0\n",
       "3      3.9\n",
       "4      3.5\n",
       "      ... \n",
       "727    6.1\n",
       "728    6.1\n",
       "729    6.5\n",
       "730    6.8\n",
       "731    7.3\n",
       "Name: UnemploymentRate, Length: 732, dtype: float64"
      ]
     },
     "execution_count": 10,
     "metadata": {},
     "output_type": "execute_result"
    }
   ],
   "source": [
    "data.UnemploymentRate"
   ]
  },
  {
   "cell_type": "code",
   "execution_count": 11,
   "id": "b9c0a629",
   "metadata": {},
   "outputs": [],
   "source": [
    "data['firstDiff'] = data.UnemploymentRate.diff().fillna(0)"
   ]
  },
  {
   "cell_type": "code",
   "execution_count": 12,
   "id": "736efd04",
   "metadata": {},
   "outputs": [
    {
     "data": {
      "text/plain": [
       "<AxesSubplot:>"
      ]
     },
     "execution_count": 12,
     "metadata": {},
     "output_type": "execute_result"
    },
    {
     "data": {
      "image/png": "[encoded data removed]",
      "text/plain": [
       "<Figure size 432x288 with 1 Axes>"
      ]
     },
     "metadata": {
      "needs_background": "light"
     },
     "output_type": "display_data"
    }
   ],
   "source": [
    "data.firstDiff.plot()"
   ]
  },
  {
   "cell_type": "code",
   "execution_count": 30,
   "id": "9f380c78",
   "metadata": {},
   "outputs": [],
   "source": [
    "#data is stationary after differencing once"
   ]
  },
  {
   "cell_type": "code",
   "execution_count": 31,
   "id": "a81cd679",
   "metadata": {},
   "outputs": [],
   "source": [
    "from statsmodels.tsa.stattools import adfuller"
   ]
  },
  {
   "cell_type": "code",
   "execution_count": 53,
   "id": "e72fb324",
   "metadata": {},
   "outputs": [],
   "source": [
    "# help(adfuller)"
   ]
  },
  {
   "cell_type": "code",
   "execution_count": 45,
   "id": "699f3c59",
   "metadata": {},
   "outputs": [
    {
     "data": {
      "text/plain": [
       "(-3.037014406706925, 0.031579345100702205, 12, 719)"
      ]
     },
     "execution_count": 45,
     "metadata": {},
     "output_type": "execute_result"
    }
   ],
   "source": [
    "result = adfuller(data.UnemploymentRate)\n",
    "result\n",
    "adf_stat_raw, pval_raw, lags_raw, obsrvtns_raw = result[:4]\n",
    "adf_stat_raw, pval_raw, lags_raw, obsrvtns_raw\n",
    "# print()\n"
   ]
  },
  {
   "cell_type": "code",
   "execution_count": 50,
   "id": "5dcc59ee",
   "metadata": {},
   "outputs": [
    {
     "data": {
      "text/plain": [
       "{'1%': -3.439477677285233,\n",
       " '5%': -2.865568186630048,\n",
       " '10%': -2.5689150720653977}"
      ]
     },
     "execution_count": 50,
     "metadata": {},
     "output_type": "execute_result"
    }
   ],
   "source": [
    "result[4] #5% is the critical val"
   ]
  },
  {
   "cell_type": "code",
   "execution_count": 47,
   "id": "d5feb522",
   "metadata": {},
   "outputs": [],
   "source": [
    "# If the p-value is less than or equal to 0.05 or \n",
    "# the absolute value of the test statistics is greater than the critical value, \n",
    "# you reject H0 and conclude that the time series is stationary."
   ]
  },
  {
   "cell_type": "code",
   "execution_count": null,
   "id": "41418400",
   "metadata": {},
   "outputs": [],
   "source": [
    "# visually I'm gonna reject null hypothesis at first difference but can somone explain why this should not be \n",
    "#rejected"
   ]
  },
  {
   "cell_type": "code",
   "execution_count": 48,
   "id": "e3941f1c",
   "metadata": {},
   "outputs": [
    {
     "data": {
      "text/plain": [
       "(-8.077966595633509, 1.4877381212309425e-12, 11, 720)"
      ]
     },
     "execution_count": 48,
     "metadata": {},
     "output_type": "execute_result"
    }
   ],
   "source": [
    "result2 = adfuller(data.firstDiff)\n",
    "adf_stat_diff, pval_diff, lags_diff, obsrvtns_diff = result2[:4]\n",
    "adf_stat_diff, pval_diff, lags_diff, obsrvtns_diff"
   ]
  },
  {
   "cell_type": "code",
   "execution_count": null,
   "id": "34033858",
   "metadata": {},
   "outputs": [],
   "source": [
    "##"
   ]
  },
  {
   "cell_type": "code",
   "execution_count": 51,
   "id": "7113ec03",
   "metadata": {},
   "outputs": [
    {
     "data": {
      "text/plain": [
       "{'1%': -3.439464954327953,\n",
       " '5%': -2.8655625802683473,\n",
       " '10%': -2.5689120852623457}"
      ]
     },
     "execution_count": 51,
     "metadata": {},
     "output_type": "execute_result"
    }
   ],
   "source": [
    "result2[4] #5% is the critical val"
   ]
  },
  {
   "cell_type": "code",
   "execution_count": null,
   "id": "566a588a",
   "metadata": {},
   "outputs": [],
   "source": [
    "##kpss test"
   ]
  },
  {
   "cell_type": "code",
   "execution_count": 56,
   "id": "11528df0",
   "metadata": {},
   "outputs": [],
   "source": [
    "from statsmodels.tsa.stattools import kpss"
   ]
  },
  {
   "cell_type": "code",
   "execution_count": 62,
   "id": "79db756d",
   "metadata": {},
   "outputs": [
    {
     "data": {
      "text/plain": [
       "(0.6730092019333949, 0.015999163460600464, 17)"
      ]
     },
     "execution_count": 62,
     "metadata": {},
     "output_type": "execute_result"
    }
   ],
   "source": [
    "result_kpss = kpss(data.UnemploymentRate)\n",
    "kpss_stat, kpss_pval, kpss_lags = result_kpss[:3]\n",
    "kpss_stat, kpss_pval, kpss_lags"
   ]
  },
  {
   "cell_type": "code",
   "execution_count": 63,
   "id": "07a7186c",
   "metadata": {},
   "outputs": [
    {
     "data": {
      "text/plain": [
       "0.463"
      ]
     },
     "execution_count": 63,
     "metadata": {},
     "output_type": "execute_result"
    }
   ],
   "source": [
    "result_kpss[3]['5%']"
   ]
  },
  {
   "cell_type": "code",
   "execution_count": 64,
   "id": "738b8eed",
   "metadata": {},
   "outputs": [
    {
     "name": "stderr",
     "output_type": "stream",
     "text": [
      "/usr/local/venv/lib/python3.7/site-packages/statsmodels/tsa/stattools.py:2023: InterpolationWarning: The test statistic is outside of the range of p-values available in the\n",
      "look-up table. The actual p-value is greater than the p-value returned.\n",
      "\n",
      "  warn_msg.format(direction=\"greater\"), InterpolationWarning\n"
     ]
    },
    {
     "data": {
      "text/plain": [
       "(0.03135691797194356, 0.1, 12)"
      ]
     },
     "execution_count": 64,
     "metadata": {},
     "output_type": "execute_result"
    }
   ],
   "source": [
    "result_kpss_2 = kpss(data.firstDiff.fillna(0))\n",
    "kpss_stat2, kpss_pval2, kpss_lags2 = result_kpss_2[:3]\n",
    "kpss_stat2, kpss_pval2, kpss_lags2"
   ]
  },
  {
   "cell_type": "code",
   "execution_count": 65,
   "id": "e63f2128",
   "metadata": {},
   "outputs": [
    {
     "data": {
      "text/plain": [
       "0.463"
      ]
     },
     "execution_count": 65,
     "metadata": {},
     "output_type": "execute_result"
    }
   ],
   "source": [
    "result_kpss_2[3]['5%']"
   ]
  },
  {
   "cell_type": "code",
   "execution_count": null,
   "id": "a7903c64",
   "metadata": {},
   "outputs": [],
   "source": [
    "#I'm gonna try forecasting with raw data as well, tstat and pval for raw data reject null hypothesis it seems"
   ]
  },
  {
   "cell_type": "code",
   "execution_count": 14,
   "id": "2ba606e1",
   "metadata": {},
   "outputs": [],
   "source": [
    "# np.log(np.e)"
   ]
  },
  {
   "cell_type": "code",
   "execution_count": 15,
   "id": "b6dada86",
   "metadata": {},
   "outputs": [],
   "source": [
    "# np.log(data['UnemploymentRate']).diff(1).plot()"
   ]
  },
  {
   "cell_type": "code",
   "execution_count": 16,
   "id": "5d7be000",
   "metadata": {},
   "outputs": [],
   "source": [
    "from statsmodels.tsa.stattools import acf, pacf\n",
    "from statsmodels.graphics.tsaplots import plot_acf, plot_pacf"
   ]
  },
  {
   "cell_type": "code",
   "execution_count": 17,
   "id": "074071f5",
   "metadata": {},
   "outputs": [
    {
     "data": {
      "text/plain": [
       "(array([1.  , 0.98, 0.97, 0.95, 0.92, 0.89, 0.86, 0.83, 0.8 , 0.77, 0.73,\n",
       "        0.7 , 0.67, 0.64, 0.62, 0.6 , 0.57, 0.56, 0.54, 0.52, 0.5 , 0.49,\n",
       "        0.47, 0.46, 0.44, 0.43, 0.42, 0.41, 0.4 ]),\n",
       " (29,))"
      ]
     },
     "execution_count": 17,
     "metadata": {},
     "output_type": "execute_result"
    }
   ],
   "source": [
    "acf_vals_raw = acf(data['UnemploymentRate'])\n",
    "np.round(acf_vals_raw,2), acf_vals_raw.shape"
   ]
  },
  {
   "cell_type": "code",
   "execution_count": 18,
   "id": "cb68e339",
   "metadata": {},
   "outputs": [
    {
     "data": {
      "text/plain": [
       "Text(0.5, 1.0, 'Autocorrelation with raw data')"
      ]
     },
     "execution_count": 18,
     "metadata": {},
     "output_type": "execute_result"
    },
    {
     "data": {
      "image/png": "[encoded data removed]",
      "text/plain": [
       "<Figure size 432x288 with 1 Axes>"
      ]
     },
     "metadata": {
      "needs_background": "light"
     },
     "output_type": "display_data"
    }
   ],
   "source": [
    "plot_acf(data.UnemploymentRate);\n",
    "plt.title('Autocorrelation with raw data')"
   ]
  },
  {
   "cell_type": "code",
   "execution_count": 19,
   "id": "2d2a5d48",
   "metadata": {},
   "outputs": [
    {
     "data": {
      "text/plain": [
       "(array([ 1.  ,  0.06,  0.25,  0.15,  0.12,  0.13,  0.03,  0.02,  0.03,\n",
       "         0.02, -0.1 ,  0.02, -0.14, -0.04, -0.04, -0.05, -0.05, -0.04,\n",
       "        -0.02, -0.  , -0.01, -0.04, -0.02, -0.02, -0.13, -0.01, -0.07,\n",
       "         0.01, -0.03]),\n",
       " (29,))"
      ]
     },
     "execution_count": 19,
     "metadata": {},
     "output_type": "execute_result"
    }
   ],
   "source": [
    "acf_vals = acf(data['firstDiff'])\n",
    "np.round(acf_vals,2), acf_vals.shape"
   ]
  },
  {
   "cell_type": "code",
   "execution_count": 20,
   "id": "580f700f",
   "metadata": {},
   "outputs": [
    {
     "data": {
      "text/plain": [
       "Text(0.5, 1.0, 'Autocorrelation with diff data')"
      ]
     },
     "execution_count": 20,
     "metadata": {},
     "output_type": "execute_result"
    },
    {
     "data": {
      "image/png": "[encoded data removed]",
      "text/plain": [
       "<Figure size 432x288 with 1 Axes>"
      ]
     },
     "metadata": {
      "needs_background": "light"
     },
     "output_type": "display_data"
    }
   ],
   "source": [
    "plot_acf(data['firstDiff'],lags=30); #add semi colon to stop plotting twice, weird!\n",
    "plt.title('Autocorrelation with diff data')"
   ]
  },
  {
   "cell_type": "code",
   "execution_count": 21,
   "id": "cd7920df",
   "metadata": {},
   "outputs": [],
   "source": [
    "# 2nd month there's correlation of 0.25; 3rd,4th,5th and 12th too have correlation values- outside blue shaded area"
   ]
  },
  {
   "cell_type": "code",
   "execution_count": 22,
   "id": "af701364",
   "metadata": {},
   "outputs": [],
   "source": [
    "# import itertools"
   ]
  },
  {
   "cell_type": "code",
   "execution_count": 23,
   "id": "fda7fc98",
   "metadata": {},
   "outputs": [],
   "source": [
    "# list(itertools.product([0,1,2],[0,1,2],[0,1,2]))\n",
    "# list(itertools.combinations([0,1,2],3))"
   ]
  },
  {
   "cell_type": "code",
   "execution_count": 24,
   "id": "387ddf8f",
   "metadata": {},
   "outputs": [
    {
     "data": {
      "text/plain": [
       "(array([ 1.  ,  0.99, -0.03, -0.22, -0.14, -0.11, -0.08,  0.02,  0.05,\n",
       "        -0.  , -0.05,  0.09, -0.03,  0.11,  0.05, -0.02, -0.02,  0.03,\n",
       "        -0.02, -0.01, -0.02, -0.04,  0.07, -0.05, -0.01,  0.15,  0.01,\n",
       "         0.02, -0.07]),\n",
       " (29,))"
      ]
     },
     "execution_count": 24,
     "metadata": {},
     "output_type": "execute_result"
    }
   ],
   "source": [
    "pacf_values_raw = pacf(data.UnemploymentRate)\n",
    "np.round(pacf_values_raw,2), pacf_values_raw.shape"
   ]
  },
  {
   "cell_type": "code",
   "execution_count": 25,
   "id": "22e1f187",
   "metadata": {},
   "outputs": [
    {
     "name": "stderr",
     "output_type": "stream",
     "text": [
      "/usr/local/venv/lib/python3.7/site-packages/statsmodels/graphics/tsaplots.py:353: FutureWarning: The default method 'yw' can produce PACF values outside of the [-1,1] interval. After 0.13, the default will change tounadjusted Yule-Walker ('ywm'). You can use this method now by setting method='ywm'.\n",
      "  FutureWarning,\n"
     ]
    },
    {
     "data": {
      "text/plain": [
       "Text(0.5, 1.0, 'Partial Autocorr with raw data')"
      ]
     },
     "execution_count": 25,
     "metadata": {},
     "output_type": "execute_result"
    },
    {
     "data": {
      "image/png": "[encoded data removed]",
      "text/plain": [
       "<Figure size 432x288 with 1 Axes>"
      ]
     },
     "metadata": {
      "needs_background": "light"
     },
     "output_type": "display_data"
    }
   ],
   "source": [
    "plot_pacf(data.UnemploymentRate, lags =30);\n",
    "plt.title('Partial Autocorr with raw data')"
   ]
  },
  {
   "cell_type": "code",
   "execution_count": 26,
   "id": "89ecc918",
   "metadata": {},
   "outputs": [
    {
     "data": {
      "text/plain": [
       "(array([ 1.  ,  0.06,  0.25,  0.13,  0.06,  0.06, -0.03, -0.05, -0.  ,\n",
       "         0.01, -0.12,  0.02, -0.11, -0.02,  0.03,  0.01, -0.02,  0.  ,\n",
       "         0.01,  0.02, -0.  , -0.03, -0.04, -0.01, -0.14,  0.  , -0.01,\n",
       "         0.05,  0.01]),\n",
       " (29,))"
      ]
     },
     "execution_count": 26,
     "metadata": {},
     "output_type": "execute_result"
    }
   ],
   "source": [
    "pacf_values = pacf(data.firstDiff)\n",
    "np.round(pacf_values,2), pacf_values.shape"
   ]
  },
  {
   "cell_type": "code",
   "execution_count": 27,
   "id": "27602a5c",
   "metadata": {},
   "outputs": [
    {
     "name": "stderr",
     "output_type": "stream",
     "text": [
      "/usr/local/venv/lib/python3.7/site-packages/statsmodels/graphics/tsaplots.py:353: FutureWarning: The default method 'yw' can produce PACF values outside of the [-1,1] interval. After 0.13, the default will change tounadjusted Yule-Walker ('ywm'). You can use this method now by setting method='ywm'.\n",
      "  FutureWarning,\n"
     ]
    },
    {
     "data": {
      "text/plain": [
       "Text(0.5, 1.0, 'Partial Autocorr with diff data')"
      ]
     },
     "execution_count": 27,
     "metadata": {},
     "output_type": "execute_result"
    },
    {
     "data": {
      "image/png": "[encoded data removed]",
      "text/plain": [
       "<Figure size 432x288 with 1 Axes>"
      ]
     },
     "metadata": {
      "needs_background": "light"
     },
     "output_type": "display_data"
    }
   ],
   "source": [
    "plot_pacf(data.firstDiff, lags =30);\n",
    "plt.title('Partial Autocorr with diff data')"
   ]
  },
  {
   "cell_type": "code",
   "execution_count": 28,
   "id": "2a9f20a2",
   "metadata": {},
   "outputs": [],
   "source": [
    "#2nd period has partial corr value of 0.25"
   ]
  },
  {
   "cell_type": "code",
   "execution_count": 29,
   "id": "8e7b6e0f",
   "metadata": {},
   "outputs": [],
   "source": [
    "## Let's try ARIMA model of order (p,i,q) with p=2 (pacf), i=1 (first diff), q=2 (acf)\n",
    "## we can also try (2,0,2),(2,0,5) & (2,1,5)"
   ]
  },
  {
   "cell_type": "code",
   "execution_count": 66,
   "id": "579392da",
   "metadata": {},
   "outputs": [],
   "source": [
    "#ARIMA model"
   ]
  },
  {
   "cell_type": "code",
   "execution_count": 67,
   "id": "0b956cf4",
   "metadata": {},
   "outputs": [],
   "source": [
    "# from statsmodels.tsa.arima_model import ARIMA this has been depracated looks like"
   ]
  },
  {
   "cell_type": "code",
   "execution_count": 69,
   "id": "0215d35b",
   "metadata": {},
   "outputs": [],
   "source": [
    "# help(ARIMA)"
   ]
  },
  {
   "cell_type": "code",
   "execution_count": 70,
   "id": "fa14afa5",
   "metadata": {},
   "outputs": [],
   "source": [
    "from statsmodels.tsa.arima.model import ARIMA"
   ]
  },
  {
   "cell_type": "code",
   "execution_count": 90,
   "id": "7ecae429",
   "metadata": {},
   "outputs": [],
   "source": [
    "from statsmodels.graphics.tsaplots import plot_predict"
   ]
  },
  {
   "cell_type": "code",
   "execution_count": 78,
   "id": "3ddd8236",
   "metadata": {},
   "outputs": [
    {
     "data": {
      "text/html": [
       "<table class=\"simpletable\">\n",
       "<caption>SARIMAX Results</caption>\n",
       "<tr>\n",
       "  <th>Dep. Variable:</th>   <td>UnemploymentRate</td> <th>  No. Observations:  </th>   <td>732</td>  \n",
       "</tr>\n",
       "<tr>\n",
       "  <th>Model:</th>            <td>ARIMA(2, 0, 5)</td>  <th>  Log Likelihood     </th> <td>43.637</td> \n",
       "</tr>\n",
       "<tr>\n",
       "  <th>Date:</th>            <td>Mon, 18 Jul 2022</td> <th>  AIC                </th> <td>-69.274</td>\n",
       "</tr>\n",
       "<tr>\n",
       "  <th>Time:</th>                <td>22:33:25</td>     <th>  BIC                </th> <td>-27.912</td>\n",
       "</tr>\n",
       "<tr>\n",
       "  <th>Sample:</th>                  <td>0</td>        <th>  HQIC               </th> <td>-53.318</td>\n",
       "</tr>\n",
       "<tr>\n",
       "  <th></th>                      <td> - 732</td>      <th>                     </th>    <td> </td>   \n",
       "</tr>\n",
       "<tr>\n",
       "  <th>Covariance Type:</th>        <td>opg</td>       <th>                     </th>    <td> </td>   \n",
       "</tr>\n",
       "</table>\n",
       "<table class=\"simpletable\">\n",
       "<tr>\n",
       "     <td></td>       <th>coef</th>     <th>std err</th>      <th>z</th>      <th>P>|z|</th>  <th>[0.025</th>    <th>0.975]</th>  \n",
       "</tr>\n",
       "<tr>\n",
       "  <th>const</th>  <td>    5.5855</td> <td>    0.463</td> <td>   12.065</td> <td> 0.000</td> <td>    4.678</td> <td>    6.493</td>\n",
       "</tr>\n",
       "<tr>\n",
       "  <th>ar.L1</th>  <td>    1.7153</td> <td>    0.123</td> <td>   13.987</td> <td> 0.000</td> <td>    1.475</td> <td>    1.956</td>\n",
       "</tr>\n",
       "<tr>\n",
       "  <th>ar.L2</th>  <td>   -0.7265</td> <td>    0.120</td> <td>   -6.057</td> <td> 0.000</td> <td>   -0.962</td> <td>   -0.491</td>\n",
       "</tr>\n",
       "<tr>\n",
       "  <th>ma.L1</th>  <td>   -0.7282</td> <td>    0.134</td> <td>   -5.415</td> <td> 0.000</td> <td>   -0.992</td> <td>   -0.465</td>\n",
       "</tr>\n",
       "<tr>\n",
       "  <th>ma.L2</th>  <td>    0.2232</td> <td>    0.046</td> <td>    4.810</td> <td> 0.000</td> <td>    0.132</td> <td>    0.314</td>\n",
       "</tr>\n",
       "<tr>\n",
       "  <th>ma.L3</th>  <td>   -0.0393</td> <td>    0.071</td> <td>   -0.555</td> <td> 0.579</td> <td>   -0.178</td> <td>    0.099</td>\n",
       "</tr>\n",
       "<tr>\n",
       "  <th>ma.L4</th>  <td>    0.0450</td> <td>    0.060</td> <td>    0.750</td> <td> 0.453</td> <td>   -0.073</td> <td>    0.163</td>\n",
       "</tr>\n",
       "<tr>\n",
       "  <th>ma.L5</th>  <td>    0.0296</td> <td>    0.055</td> <td>    0.537</td> <td> 0.591</td> <td>   -0.078</td> <td>    0.138</td>\n",
       "</tr>\n",
       "<tr>\n",
       "  <th>sigma2</th> <td>    0.0517</td> <td>    0.001</td> <td>   69.071</td> <td> 0.000</td> <td>    0.050</td> <td>    0.053</td>\n",
       "</tr>\n",
       "</table>\n",
       "<table class=\"simpletable\">\n",
       "<tr>\n",
       "  <th>Ljung-Box (L1) (Q):</th>     <td>0.01</td> <th>  Jarque-Bera (JB):  </th> <td>88913.95</td>\n",
       "</tr>\n",
       "<tr>\n",
       "  <th>Prob(Q):</th>                <td>0.90</td> <th>  Prob(JB):          </th>   <td>0.00</td>  \n",
       "</tr>\n",
       "<tr>\n",
       "  <th>Heteroskedasticity (H):</th> <td>0.28</td> <th>  Skew:              </th>   <td>3.59</td>  \n",
       "</tr>\n",
       "<tr>\n",
       "  <th>Prob(H) (two-sided):</th>    <td>0.00</td> <th>  Kurtosis:          </th>   <td>56.51</td> \n",
       "</tr>\n",
       "</table><br/><br/>Warnings:<br/>[1] Covariance matrix calculated using the outer product of gradients (complex-step)."
      ],
      "text/plain": [
       "<class 'statsmodels.iolib.summary.Summary'>\n",
       "\"\"\"\n",
       "                               SARIMAX Results                                \n",
       "==============================================================================\n",
       "Dep. Variable:       UnemploymentRate   No. Observations:                  732\n",
       "Model:                 ARIMA(2, 0, 5)   Log Likelihood                  43.637\n",
       "Date:                Mon, 18 Jul 2022   AIC                            -69.274\n",
       "Time:                        22:33:25   BIC                            -27.912\n",
       "Sample:                             0   HQIC                           -53.318\n",
       "                                - 732                                         \n",
       "Covariance Type:                  opg                                         \n",
       "==============================================================================\n",
       "                 coef    std err          z      P>|z|      [0.025      0.975]\n",
       "------------------------------------------------------------------------------\n",
       "const          5.5855      0.463     12.065      0.000       4.678       6.493\n",
       "ar.L1          1.7153      0.123     13.987      0.000       1.475       1.956\n",
       "ar.L2         -0.7265      0.120     -6.057      0.000      -0.962      -0.491\n",
       "ma.L1         -0.7282      0.134     -5.415      0.000      -0.992      -0.465\n",
       "ma.L2          0.2232      0.046      4.810      0.000       0.132       0.314\n",
       "ma.L3         -0.0393      0.071     -0.555      0.579      -0.178       0.099\n",
       "ma.L4          0.0450      0.060      0.750      0.453      -0.073       0.163\n",
       "ma.L5          0.0296      0.055      0.537      0.591      -0.078       0.138\n",
       "sigma2         0.0517      0.001     69.071      0.000       0.050       0.053\n",
       "===================================================================================\n",
       "Ljung-Box (L1) (Q):                   0.01   Jarque-Bera (JB):             88913.95\n",
       "Prob(Q):                              0.90   Prob(JB):                         0.00\n",
       "Heteroskedasticity (H):               0.28   Skew:                             3.59\n",
       "Prob(H) (two-sided):                  0.00   Kurtosis:                        56.51\n",
       "===================================================================================\n",
       "\n",
       "Warnings:\n",
       "[1] Covariance matrix calculated using the outer product of gradients (complex-step).\n",
       "\"\"\""
      ]
     },
     "execution_count": 78,
     "metadata": {},
     "output_type": "execute_result"
    }
   ],
   "source": [
    "model_205 = ARIMA(data.UnemploymentRate,order=(2,0,5))\n",
    "model_205 = model_205.fit()\n",
    "model_205.summary()"
   ]
  },
  {
   "cell_type": "code",
   "execution_count": 73,
   "id": "6cb9fdc0",
   "metadata": {},
   "outputs": [],
   "source": [
    "# help(ARIMA)"
   ]
  },
  {
   "cell_type": "code",
   "execution_count": 79,
   "id": "f5d8841d",
   "metadata": {},
   "outputs": [
    {
     "data": {
      "text/html": [
       "<table class=\"simpletable\">\n",
       "<caption>SARIMAX Results</caption>\n",
       "<tr>\n",
       "  <th>Dep. Variable:</th>   <td>UnemploymentRate</td> <th>  No. Observations:  </th>   <td>732</td>  \n",
       "</tr>\n",
       "<tr>\n",
       "  <th>Model:</th>            <td>ARIMA(2, 1, 5)</td>  <th>  Log Likelihood     </th> <td>43.676</td> \n",
       "</tr>\n",
       "<tr>\n",
       "  <th>Date:</th>            <td>Mon, 18 Jul 2022</td> <th>  AIC                </th> <td>-71.352</td>\n",
       "</tr>\n",
       "<tr>\n",
       "  <th>Time:</th>                <td>22:33:55</td>     <th>  BIC                </th> <td>-34.597</td>\n",
       "</tr>\n",
       "<tr>\n",
       "  <th>Sample:</th>                  <td>0</td>        <th>  HQIC               </th> <td>-57.172</td>\n",
       "</tr>\n",
       "<tr>\n",
       "  <th></th>                      <td> - 732</td>      <th>                     </th>    <td> </td>   \n",
       "</tr>\n",
       "<tr>\n",
       "  <th>Covariance Type:</th>        <td>opg</td>       <th>                     </th>    <td> </td>   \n",
       "</tr>\n",
       "</table>\n",
       "<table class=\"simpletable\">\n",
       "<tr>\n",
       "     <td></td>       <th>coef</th>     <th>std err</th>      <th>z</th>      <th>P>|z|</th>  <th>[0.025</th>    <th>0.975]</th>  \n",
       "</tr>\n",
       "<tr>\n",
       "  <th>ar.L1</th>  <td>   -0.3009</td> <td>    0.116</td> <td>   -2.598</td> <td> 0.009</td> <td>   -0.528</td> <td>   -0.074</td>\n",
       "</tr>\n",
       "<tr>\n",
       "  <th>ar.L2</th>  <td>    0.6375</td> <td>    0.111</td> <td>    5.757</td> <td> 0.000</td> <td>    0.420</td> <td>    0.855</td>\n",
       "</tr>\n",
       "<tr>\n",
       "  <th>ma.L1</th>  <td>    0.3196</td> <td>    0.120</td> <td>    2.653</td> <td> 0.008</td> <td>    0.084</td> <td>    0.556</td>\n",
       "</tr>\n",
       "<tr>\n",
       "  <th>ma.L2</th>  <td>   -0.4217</td> <td>    0.114</td> <td>   -3.689</td> <td> 0.000</td> <td>   -0.646</td> <td>   -0.198</td>\n",
       "</tr>\n",
       "<tr>\n",
       "  <th>ma.L3</th>  <td>    0.1865</td> <td>    0.041</td> <td>    4.554</td> <td> 0.000</td> <td>    0.106</td> <td>    0.267</td>\n",
       "</tr>\n",
       "<tr>\n",
       "  <th>ma.L4</th>  <td>    0.0141</td> <td>    0.076</td> <td>    0.185</td> <td> 0.853</td> <td>   -0.135</td> <td>    0.163</td>\n",
       "</tr>\n",
       "<tr>\n",
       "  <th>ma.L5</th>  <td>    0.0811</td> <td>    0.050</td> <td>    1.638</td> <td> 0.101</td> <td>   -0.016</td> <td>    0.178</td>\n",
       "</tr>\n",
       "<tr>\n",
       "  <th>sigma2</th> <td>    0.0518</td> <td>    0.001</td> <td>   69.003</td> <td> 0.000</td> <td>    0.050</td> <td>    0.053</td>\n",
       "</tr>\n",
       "</table>\n",
       "<table class=\"simpletable\">\n",
       "<tr>\n",
       "  <th>Ljung-Box (L1) (Q):</th>     <td>0.00</td> <th>  Jarque-Bera (JB):  </th> <td>84817.97</td>\n",
       "</tr>\n",
       "<tr>\n",
       "  <th>Prob(Q):</th>                <td>1.00</td> <th>  Prob(JB):          </th>   <td>0.00</td>  \n",
       "</tr>\n",
       "<tr>\n",
       "  <th>Heteroskedasticity (H):</th> <td>0.28</td> <th>  Skew:              </th>   <td>3.51</td>  \n",
       "</tr>\n",
       "<tr>\n",
       "  <th>Prob(H) (two-sided):</th>    <td>0.00</td> <th>  Kurtosis:          </th>   <td>55.30</td> \n",
       "</tr>\n",
       "</table><br/><br/>Warnings:<br/>[1] Covariance matrix calculated using the outer product of gradients (complex-step)."
      ],
      "text/plain": [
       "<class 'statsmodels.iolib.summary.Summary'>\n",
       "\"\"\"\n",
       "                               SARIMAX Results                                \n",
       "==============================================================================\n",
       "Dep. Variable:       UnemploymentRate   No. Observations:                  732\n",
       "Model:                 ARIMA(2, 1, 5)   Log Likelihood                  43.676\n",
       "Date:                Mon, 18 Jul 2022   AIC                            -71.352\n",
       "Time:                        22:33:55   BIC                            -34.597\n",
       "Sample:                             0   HQIC                           -57.172\n",
       "                                - 732                                         \n",
       "Covariance Type:                  opg                                         \n",
       "==============================================================================\n",
       "                 coef    std err          z      P>|z|      [0.025      0.975]\n",
       "------------------------------------------------------------------------------\n",
       "ar.L1         -0.3009      0.116     -2.598      0.009      -0.528      -0.074\n",
       "ar.L2          0.6375      0.111      5.757      0.000       0.420       0.855\n",
       "ma.L1          0.3196      0.120      2.653      0.008       0.084       0.556\n",
       "ma.L2         -0.4217      0.114     -3.689      0.000      -0.646      -0.198\n",
       "ma.L3          0.1865      0.041      4.554      0.000       0.106       0.267\n",
       "ma.L4          0.0141      0.076      0.185      0.853      -0.135       0.163\n",
       "ma.L5          0.0811      0.050      1.638      0.101      -0.016       0.178\n",
       "sigma2         0.0518      0.001     69.003      0.000       0.050       0.053\n",
       "===================================================================================\n",
       "Ljung-Box (L1) (Q):                   0.00   Jarque-Bera (JB):             84817.97\n",
       "Prob(Q):                              1.00   Prob(JB):                         0.00\n",
       "Heteroskedasticity (H):               0.28   Skew:                             3.51\n",
       "Prob(H) (two-sided):                  0.00   Kurtosis:                        55.30\n",
       "===================================================================================\n",
       "\n",
       "Warnings:\n",
       "[1] Covariance matrix calculated using the outer product of gradients (complex-step).\n",
       "\"\"\""
      ]
     },
     "execution_count": 79,
     "metadata": {},
     "output_type": "execute_result"
    }
   ],
   "source": [
    "model_215 = ARIMA(data.UnemploymentRate,order=(2,1,5))\n",
    "model_215 = model_215.fit()\n",
    "model_215.summary()"
   ]
  },
  {
   "cell_type": "code",
   "execution_count": 80,
   "id": "b3a35457",
   "metadata": {},
   "outputs": [
    {
     "data": {
      "text/html": [
       "<table class=\"simpletable\">\n",
       "<caption>SARIMAX Results</caption>\n",
       "<tr>\n",
       "  <th>Dep. Variable:</th>   <td>UnemploymentRate</td> <th>  No. Observations:  </th>   <td>732</td>  \n",
       "</tr>\n",
       "<tr>\n",
       "  <th>Model:</th>            <td>ARIMA(2, 1, 2)</td>  <th>  Log Likelihood     </th> <td>37.999</td> \n",
       "</tr>\n",
       "<tr>\n",
       "  <th>Date:</th>            <td>Mon, 18 Jul 2022</td> <th>  AIC                </th> <td>-65.998</td>\n",
       "</tr>\n",
       "<tr>\n",
       "  <th>Time:</th>                <td>22:35:32</td>     <th>  BIC                </th> <td>-43.026</td>\n",
       "</tr>\n",
       "<tr>\n",
       "  <th>Sample:</th>                  <td>0</td>        <th>  HQIC               </th> <td>-57.135</td>\n",
       "</tr>\n",
       "<tr>\n",
       "  <th></th>                      <td> - 732</td>      <th>                     </th>    <td> </td>   \n",
       "</tr>\n",
       "<tr>\n",
       "  <th>Covariance Type:</th>        <td>opg</td>       <th>                     </th>    <td> </td>   \n",
       "</tr>\n",
       "</table>\n",
       "<table class=\"simpletable\">\n",
       "<tr>\n",
       "     <td></td>       <th>coef</th>     <th>std err</th>      <th>z</th>      <th>P>|z|</th>  <th>[0.025</th>    <th>0.975]</th>  \n",
       "</tr>\n",
       "<tr>\n",
       "  <th>ar.L1</th>  <td>    0.6567</td> <td>    0.216</td> <td>    3.047</td> <td> 0.002</td> <td>    0.234</td> <td>    1.079</td>\n",
       "</tr>\n",
       "<tr>\n",
       "  <th>ar.L2</th>  <td>    0.0643</td> <td>    0.195</td> <td>    0.329</td> <td> 0.742</td> <td>   -0.318</td> <td>    0.447</td>\n",
       "</tr>\n",
       "<tr>\n",
       "  <th>ma.L1</th>  <td>   -0.6517</td> <td>    0.215</td> <td>   -3.029</td> <td> 0.002</td> <td>   -1.073</td> <td>   -0.230</td>\n",
       "</tr>\n",
       "<tr>\n",
       "  <th>ma.L2</th>  <td>    0.1506</td> <td>    0.168</td> <td>    0.898</td> <td> 0.369</td> <td>   -0.178</td> <td>    0.479</td>\n",
       "</tr>\n",
       "<tr>\n",
       "  <th>sigma2</th> <td>    0.0528</td> <td>    0.001</td> <td>   83.193</td> <td> 0.000</td> <td>    0.052</td> <td>    0.054</td>\n",
       "</tr>\n",
       "</table>\n",
       "<table class=\"simpletable\">\n",
       "<tr>\n",
       "  <th>Ljung-Box (L1) (Q):</th>     <td>0.00</td> <th>  Jarque-Bera (JB):  </th> <td>86328.47</td>\n",
       "</tr>\n",
       "<tr>\n",
       "  <th>Prob(Q):</th>                <td>0.99</td> <th>  Prob(JB):          </th>   <td>0.00</td>  \n",
       "</tr>\n",
       "<tr>\n",
       "  <th>Heteroskedasticity (H):</th> <td>0.28</td> <th>  Skew:              </th>   <td>3.52</td>  \n",
       "</tr>\n",
       "<tr>\n",
       "  <th>Prob(H) (two-sided):</th>    <td>0.00</td> <th>  Kurtosis:          </th>   <td>55.77</td> \n",
       "</tr>\n",
       "</table><br/><br/>Warnings:<br/>[1] Covariance matrix calculated using the outer product of gradients (complex-step)."
      ],
      "text/plain": [
       "<class 'statsmodels.iolib.summary.Summary'>\n",
       "\"\"\"\n",
       "                               SARIMAX Results                                \n",
       "==============================================================================\n",
       "Dep. Variable:       UnemploymentRate   No. Observations:                  732\n",
       "Model:                 ARIMA(2, 1, 2)   Log Likelihood                  37.999\n",
       "Date:                Mon, 18 Jul 2022   AIC                            -65.998\n",
       "Time:                        22:35:32   BIC                            -43.026\n",
       "Sample:                             0   HQIC                           -57.135\n",
       "                                - 732                                         \n",
       "Covariance Type:                  opg                                         \n",
       "==============================================================================\n",
       "                 coef    std err          z      P>|z|      [0.025      0.975]\n",
       "------------------------------------------------------------------------------\n",
       "ar.L1          0.6567      0.216      3.047      0.002       0.234       1.079\n",
       "ar.L2          0.0643      0.195      0.329      0.742      -0.318       0.447\n",
       "ma.L1         -0.6517      0.215     -3.029      0.002      -1.073      -0.230\n",
       "ma.L2          0.1506      0.168      0.898      0.369      -0.178       0.479\n",
       "sigma2         0.0528      0.001     83.193      0.000       0.052       0.054\n",
       "===================================================================================\n",
       "Ljung-Box (L1) (Q):                   0.00   Jarque-Bera (JB):             86328.47\n",
       "Prob(Q):                              0.99   Prob(JB):                         0.00\n",
       "Heteroskedasticity (H):               0.28   Skew:                             3.52\n",
       "Prob(H) (two-sided):                  0.00   Kurtosis:                        55.77\n",
       "===================================================================================\n",
       "\n",
       "Warnings:\n",
       "[1] Covariance matrix calculated using the outer product of gradients (complex-step).\n",
       "\"\"\""
      ]
     },
     "execution_count": 80,
     "metadata": {},
     "output_type": "execute_result"
    }
   ],
   "source": [
    "model_212 = ARIMA(data.UnemploymentRate,order=(2,1,2))\n",
    "model_212 = model_212.fit()\n",
    "model_212.summary()"
   ]
  },
  {
   "cell_type": "code",
   "execution_count": 81,
   "id": "c5d8cefd",
   "metadata": {},
   "outputs": [
    {
     "data": {
      "text/html": [
       "<table class=\"simpletable\">\n",
       "<caption>SARIMAX Results</caption>\n",
       "<tr>\n",
       "  <th>Dep. Variable:</th>   <td>UnemploymentRate</td> <th>  No. Observations:  </th>   <td>732</td>  \n",
       "</tr>\n",
       "<tr>\n",
       "  <th>Model:</th>            <td>ARIMA(2, 0, 2)</td>  <th>  Log Likelihood     </th> <td>42.618</td> \n",
       "</tr>\n",
       "<tr>\n",
       "  <th>Date:</th>            <td>Mon, 18 Jul 2022</td> <th>  AIC                </th> <td>-73.236</td>\n",
       "</tr>\n",
       "<tr>\n",
       "  <th>Time:</th>                <td>22:36:15</td>     <th>  BIC                </th> <td>-45.662</td>\n",
       "</tr>\n",
       "<tr>\n",
       "  <th>Sample:</th>                  <td>0</td>        <th>  HQIC               </th> <td>-62.599</td>\n",
       "</tr>\n",
       "<tr>\n",
       "  <th></th>                      <td> - 732</td>      <th>                     </th>    <td> </td>   \n",
       "</tr>\n",
       "<tr>\n",
       "  <th>Covariance Type:</th>        <td>opg</td>       <th>                     </th>    <td> </td>   \n",
       "</tr>\n",
       "</table>\n",
       "<table class=\"simpletable\">\n",
       "<tr>\n",
       "     <td></td>       <th>coef</th>     <th>std err</th>      <th>z</th>      <th>P>|z|</th>  <th>[0.025</th>    <th>0.975]</th>  \n",
       "</tr>\n",
       "<tr>\n",
       "  <th>const</th>  <td>    5.5876</td> <td>    0.454</td> <td>   12.309</td> <td> 0.000</td> <td>    4.698</td> <td>    6.477</td>\n",
       "</tr>\n",
       "<tr>\n",
       "  <th>ar.L1</th>  <td>    1.7720</td> <td>    0.047</td> <td>   37.546</td> <td> 0.000</td> <td>    1.680</td> <td>    1.865</td>\n",
       "</tr>\n",
       "<tr>\n",
       "  <th>ar.L2</th>  <td>   -0.7810</td> <td>    0.047</td> <td>  -16.635</td> <td> 0.000</td> <td>   -0.873</td> <td>   -0.689</td>\n",
       "</tr>\n",
       "<tr>\n",
       "  <th>ma.L1</th>  <td>   -0.7834</td> <td>    0.058</td> <td>  -13.447</td> <td> 0.000</td> <td>   -0.898</td> <td>   -0.669</td>\n",
       "</tr>\n",
       "<tr>\n",
       "  <th>ma.L2</th>  <td>    0.2040</td> <td>    0.032</td> <td>    6.419</td> <td> 0.000</td> <td>    0.142</td> <td>    0.266</td>\n",
       "</tr>\n",
       "<tr>\n",
       "  <th>sigma2</th> <td>    0.0518</td> <td>    0.001</td> <td>   81.681</td> <td> 0.000</td> <td>    0.051</td> <td>    0.053</td>\n",
       "</tr>\n",
       "</table>\n",
       "<table class=\"simpletable\">\n",
       "<tr>\n",
       "  <th>Ljung-Box (L1) (Q):</th>     <td>0.03</td> <th>  Jarque-Bera (JB):  </th> <td>90123.36</td>\n",
       "</tr>\n",
       "<tr>\n",
       "  <th>Prob(Q):</th>                <td>0.86</td> <th>  Prob(JB):          </th>   <td>0.00</td>  \n",
       "</tr>\n",
       "<tr>\n",
       "  <th>Heteroskedasticity (H):</th> <td>0.28</td> <th>  Skew:              </th>   <td>3.60</td>  \n",
       "</tr>\n",
       "<tr>\n",
       "  <th>Prob(H) (two-sided):</th>    <td>0.00</td> <th>  Kurtosis:          </th>   <td>56.88</td> \n",
       "</tr>\n",
       "</table><br/><br/>Warnings:<br/>[1] Covariance matrix calculated using the outer product of gradients (complex-step)."
      ],
      "text/plain": [
       "<class 'statsmodels.iolib.summary.Summary'>\n",
       "\"\"\"\n",
       "                               SARIMAX Results                                \n",
       "==============================================================================\n",
       "Dep. Variable:       UnemploymentRate   No. Observations:                  732\n",
       "Model:                 ARIMA(2, 0, 2)   Log Likelihood                  42.618\n",
       "Date:                Mon, 18 Jul 2022   AIC                            -73.236\n",
       "Time:                        22:36:15   BIC                            -45.662\n",
       "Sample:                             0   HQIC                           -62.599\n",
       "                                - 732                                         \n",
       "Covariance Type:                  opg                                         \n",
       "==============================================================================\n",
       "                 coef    std err          z      P>|z|      [0.025      0.975]\n",
       "------------------------------------------------------------------------------\n",
       "const          5.5876      0.454     12.309      0.000       4.698       6.477\n",
       "ar.L1          1.7720      0.047     37.546      0.000       1.680       1.865\n",
       "ar.L2         -0.7810      0.047    -16.635      0.000      -0.873      -0.689\n",
       "ma.L1         -0.7834      0.058    -13.447      0.000      -0.898      -0.669\n",
       "ma.L2          0.2040      0.032      6.419      0.000       0.142       0.266\n",
       "sigma2         0.0518      0.001     81.681      0.000       0.051       0.053\n",
       "===================================================================================\n",
       "Ljung-Box (L1) (Q):                   0.03   Jarque-Bera (JB):             90123.36\n",
       "Prob(Q):                              0.86   Prob(JB):                         0.00\n",
       "Heteroskedasticity (H):               0.28   Skew:                             3.60\n",
       "Prob(H) (two-sided):                  0.00   Kurtosis:                        56.88\n",
       "===================================================================================\n",
       "\n",
       "Warnings:\n",
       "[1] Covariance matrix calculated using the outer product of gradients (complex-step).\n",
       "\"\"\""
      ]
     },
     "execution_count": 81,
     "metadata": {},
     "output_type": "execute_result"
    }
   ],
   "source": [
    "model_202 = ARIMA(data.UnemploymentRate,order=(2,0,2))\n",
    "model_202 = model_202.fit()\n",
    "model_202.summary()"
   ]
  },
  {
   "cell_type": "code",
   "execution_count": 82,
   "id": "0537f4a1",
   "metadata": {},
   "outputs": [],
   "source": [
    "##2,0,2 has lowest AIC val (-73)"
   ]
  },
  {
   "cell_type": "code",
   "execution_count": 84,
   "id": "b9fc2618",
   "metadata": {},
   "outputs": [],
   "source": [
    "#lets plot"
   ]
  },
  {
   "cell_type": "code",
   "execution_count": 101,
   "id": "07ecd608",
   "metadata": {},
   "outputs": [
    {
     "data": {
      "image/png": "[encoded data removed]",
      "text/plain": [
       "<Figure size 432x288 with 1 Axes>"
      ]
     },
     "metadata": {
      "needs_background": "light"
     },
     "output_type": "display_data"
    }
   ],
   "source": [
    "# model_202.plot_predict(dynamic=False)\n",
    "# fig, ax = plt.subplots(2,2,figsize = (8,12))\n",
    "plot_predict(model_202,dynamic=False);"
   ]
  },
  {
   "cell_type": "code",
   "execution_count": 98,
   "id": "39d7d392",
   "metadata": {},
   "outputs": [
    {
     "data": {
      "image/png": "[encoded data removed]",
      "text/plain": [
       "<Figure size 432x288 with 1 Axes>"
      ]
     },
     "metadata": {
      "needs_background": "light"
     },
     "output_type": "display_data"
    }
   ],
   "source": [
    "plot_predict(model_212);"
   ]
  },
  {
   "cell_type": "code",
   "execution_count": 102,
   "id": "2f8e6345",
   "metadata": {},
   "outputs": [
    {
     "data": {
      "image/png": "[encoded data removed]",
      "text/plain": [
       "<Figure size 432x288 with 1 Axes>"
      ]
     },
     "metadata": {
      "needs_background": "light"
     },
     "output_type": "display_data"
    }
   ],
   "source": [
    "plot_predict(model_205);"
   ]
  },
  {
   "cell_type": "code",
   "execution_count": 103,
   "id": "85a13707",
   "metadata": {},
   "outputs": [
    {
     "data": {
      "image/png": "[encoded data removed]",
      "text/plain": [
       "<Figure size 432x288 with 1 Axes>"
      ]
     },
     "metadata": {
      "needs_background": "light"
     },
     "output_type": "display_data"
    }
   ],
   "source": [
    "plot_predict(model_215);"
   ]
  },
  {
   "cell_type": "code",
   "execution_count": null,
   "id": "764915be",
   "metadata": {},
   "outputs": [],
   "source": []
  }
 ],
 "metadata": {
  "kernelspec": {
   "display_name": "Python 3 (ipykernel)",
   "language": "python",
   "name": "python3"
  },
  "language_info": {
   "codemirror_mode": {
    "name": "ipython",
    "version": 3
   },
   "file_extension": ".py",
   "mimetype": "text/x-python",
   "name": "python",
   "nbconvert_exporter": "python",
   "pygments_lexer": "ipython3",
   "version": "3.7.3"
  }
 },
 "nbformat": 4,
 "nbformat_minor": 5
}
